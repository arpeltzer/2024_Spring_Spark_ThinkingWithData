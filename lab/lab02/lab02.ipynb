{
 "cells": [
  {
   "cell_type": "code",
   "execution_count": null,
   "id": "cc79e0df",
   "metadata": {
    "deletable": false,
    "editable": false
   },
   "outputs": [],
   "source": [
    "# Initialize Otter\n",
    "import otter\n",
    "grader = otter.Notebook(\"lab02.ipynb\")"
   ]
  },
  {
   "cell_type": "code",
   "execution_count": 1,
   "id": "9aa87de5",
   "metadata": {},
   "outputs": [],
   "source": [
    "# Run this cell to load all required Python libraries \n",
    "import numpy as np\n",
    "from datascience import *\n",
    "\n",
    "import matplotlib.pyplot as plt\n",
    "plt.style.use(\"fivethirtyeight\")\n",
    "\n",
    "import warnings\n",
    "warnings.simplefilter('ignore')"
   ]
  },
  {
   "cell_type": "markdown",
   "id": "92f3dbe5",
   "metadata": {},
   "source": [
    "# Lab 2 – Tables and Data Manipulation\n",
    "\n",
    "## Data 6, Summer 2023\n",
    "\n",
    "In this lab, we will be talking all about *Tables*. We use tables to store all sorts of data from sports statistics to population information. If there's data you have ever been curious about, it is very likely that the Internet has a table somewhere with that data!\n",
    "\n",
    "Tables are integral to the foundation of Data Science, and we will go over how to **query** a table. **Querying** a table is, simply put, requesting information about the table. Some examples of common queries (in English, not code):\n",
    "\n",
    "- How many data points are there?\n",
    "- Which data points have a specific characteristic?\n",
    "- What is the attribute of a specific data point?\n",
    "- And many more!\n",
    "\n",
    "There are so many ways we can use tables to get information we need, and there are several existing libraries in Python that we can use to do this! In this course, we will be using the `datascience` library. This is the standard library used both in Data 6 and Data 8 at UC Berkeley. If you take Data Science classes beyond those two, you'll learn more!\n",
    "\n",
    "## Table Creation\n",
    "\n",
    "Let's take a look at a table in action. Python does not have any tables by default, so we can either *create a new table from scratch* or *import a table from a file*. First, let's see how we can make our own table from scratch.\n",
    "\n",
    "We start out with an empty `Table` -- this is the same idea as having an empty array or string. Note that `Table` is capitalized and there is nothing in the parentheses."
   ]
  },
  {
   "cell_type": "code",
   "execution_count": 2,
   "id": "81638c77",
   "metadata": {},
   "outputs": [],
   "source": [
    "# Run this cell to load an empty table\n",
    "our_table = Table()\n",
    "our_table"
   ]
  },
  {
   "cell_type": "markdown",
   "id": "21629c7b",
   "metadata": {},
   "source": [
    "## Adding Data: `with_columns`"
   ]
  },
  {
   "cell_type": "markdown",
   "id": "cb2559ca",
   "metadata": {},
   "source": [
    "Now, let's put some data in our table! To do so, we use the `with_columns` method. This method requires **two arguments**:\n",
    "1. The name of the column as a string\n",
    "2. An array of values to put in the column\n",
    "\n",
    "An example call to `with_columns` looks like: `my_tbl.with_columns(\"My New Column\", my_array)`, where `my_tbl` is our table that we would like to add to and `my_array` is a previously-defined array.\n",
    "\n",
    "Run the cell below to see how we can add multiple columns into `our_table`."
   ]
  },
  {
   "cell_type": "code",
   "execution_count": 3,
   "id": "13e0bf6b",
   "metadata": {
    "scrolled": false
   },
   "outputs": [],
   "source": [
    "our_table = our_table.with_columns(\n",
    "    \"Department\", make_array(\"Data Science\", \"Economics\", \"Political Science\", \"Sociology\"),\n",
    "    \"Course Number\", make_array(6, 1, 2, 121)\n",
    ")\n",
    "our_table"
   ]
  },
  {
   "cell_type": "markdown",
   "id": "7de066fe",
   "metadata": {},
   "source": [
    "We need to make sure that the columns we add to the table have the same number of rows (the length of the array we pass in) as the table. Otherwise, we'll get an error.\n",
    "\n",
    "Watch what happens if we try to add a new column that doesn't have enough data (you'll see an error!)"
   ]
  },
  {
   "cell_type": "code",
   "execution_count": 4,
   "id": "6dd47c09",
   "metadata": {
    "tags": [
     "raises-exception"
    ]
   },
   "outputs": [],
   "source": [
    "# Just run this cell\n",
    "our_table.with_columns(\"Too Few Rows\", np.array([1, 2, 3]))"
   ]
  },
  {
   "cell_type": "markdown",
   "id": "c069068d",
   "metadata": {
    "deletable": false,
    "editable": false
   },
   "source": [
    "**Question 1.1**: Add a new column to `our_table` called `\"Number of Students\"` that contains the number of students in each department. James tells you that the *Data Science* department has 240 students, the *Economics* department has 905 students, the *Political Science* Department has 209 students, and the *Sociology* department has 63 students. \n",
    "\n",
    "Assign this new table to the variable `our_table_new_column`\n",
    "\n",
    "<!--\n",
    "BEGIN QUESTION\n",
    "name: q1_1\n",
    "points: 0\n",
    "-->"
   ]
  },
  {
   "cell_type": "code",
   "execution_count": 5,
   "id": "b7de6ca3",
   "metadata": {},
   "outputs": [],
   "source": [
    "# Our table has 4 rows, so our new column needs an array with 4 items, 1 for each row\n",
    "students_array = ...\n",
    "our_table_new_column = ...\n",
    "our_table_new_column"
   ]
  },
  {
   "cell_type": "code",
   "execution_count": null,
   "id": "93b7d15b",
   "metadata": {
    "deletable": false,
    "editable": false
   },
   "outputs": [],
   "source": [
    "grader.check(\"q1_1\")"
   ]
  },
  {
   "cell_type": "code",
   "execution_count": 8,
   "id": "49ca0af5",
   "metadata": {},
   "outputs": [],
   "source": [
    "# This is our final table!\n",
    "# You may use this cell to explore the table and see what you can do with it so far!\n",
    "our_table_new_column"
   ]
  },
  {
   "cell_type": "markdown",
   "id": "0b0c6512",
   "metadata": {},
   "source": [
    "## Table attributes: `num_rows` and `num_columns`\n",
    "\n",
    "We can ask for all sorts of information about the table itself:"
   ]
  },
  {
   "cell_type": "code",
   "execution_count": 9,
   "id": "ddd2a9de",
   "metadata": {},
   "outputs": [],
   "source": [
    "our_table_new_column.num_rows"
   ]
  },
  {
   "cell_type": "code",
   "execution_count": 10,
   "id": "7dbd0187",
   "metadata": {},
   "outputs": [],
   "source": [
    "our_table_new_column.num_columns"
   ]
  },
  {
   "cell_type": "markdown",
   "id": "35224f3e",
   "metadata": {},
   "source": [
    "## Accessing Data: `column`\n",
    "\n",
    "We can also ask about the data in the table using the `column` method. As mentioned in lecture, we can pass in a `label` or an `index` to this method. \n",
    "\n",
    "*Note*: Recall that index into the columns of a table using **zero-indexing** -- `0` corresponds to the first column, `1` corresponds to the second, etc...."
   ]
  },
  {
   "cell_type": "code",
   "execution_count": 11,
   "id": "92e4b1dc",
   "metadata": {},
   "outputs": [],
   "source": [
    "# Converts a column in the table to an array\n",
    "our_table_new_column.column(\"Department\")"
   ]
  },
  {
   "cell_type": "code",
   "execution_count": 12,
   "id": "c18c5d9e",
   "metadata": {},
   "outputs": [],
   "source": [
    "# Same thing, but uses column index instead of label\n",
    "our_table_new_column.column(0)"
   ]
  },
  {
   "cell_type": "markdown",
   "id": "d54bcca7",
   "metadata": {
    "deletable": false,
    "editable": false
   },
   "source": [
    "**Question 1.2**: Find the average number of students in each department by first accessing the `\"Number of Students\"` column as an array and then taking the average. Assign the average to `avg_num_students`.\n",
    "\n",
    "*Note*: You may use any `np` functions here\n",
    "\n",
    "<!--\n",
    "BEGIN QUESTION\n",
    "name: q1_2\n",
    "points: 0\n",
    "-->"
   ]
  },
  {
   "cell_type": "code",
   "execution_count": 13,
   "id": "b0e9bebc",
   "metadata": {},
   "outputs": [],
   "source": [
    "avg_num_students = ...\n",
    "avg_num_students"
   ]
  },
  {
   "cell_type": "code",
   "execution_count": null,
   "id": "a8051888",
   "metadata": {
    "deletable": false,
    "editable": false
   },
   "outputs": [],
   "source": [
    "grader.check(\"q1_2\")"
   ]
  },
  {
   "cell_type": "markdown",
   "id": "aec86559",
   "metadata": {},
   "source": [
    "## Loading a Table\n",
    "\n",
    "Although creating our own tables by hand can be useful, more often than not the data we want to work with is far too large to be able to type out by hand. More commonly, we load datasets in from other sources using the `Table.read_table()` method. We can pass in a *file path* to this method and it will load that data into a table we can use in Python!"
   ]
  },
  {
   "cell_type": "markdown",
   "id": "5d47f880",
   "metadata": {},
   "source": [
    "### Background on the Data\n",
    "\n",
    "The dataset that we'll use in this lab comes from the Behavioral Risk Factor Surveillance System (BRFSS), a health survey fielded by the Centers for Disease Control and Prevention (CDC). From the [BRFSS website](https://www.cdc.gov/brfss/index.html):\n",
    ">The Behavioral Risk Factor Surveillance System (BRFSS) is the nation’s premier system of health-related telephone surveys that collect state data about U.S. residents regarding their health-related risk behaviors, chronic health conditions, and use of preventive services.\n",
    "\n",
    ">By collecting behavioral health risk data at the state and local level, BRFSS has become a powerful tool for targeting and building health promotion activities. \n",
    "\n",
    "The dataset that you will investigate is a **subset of the 2022 BRFSS Survey**. We've taken all the data points corresponding to fully-completed surveys and, in our opinion, the most interesting columns. Since the entire data set is so large, we've randomly sampled 100,000 rows from the original data. While we've wrangled and cleaning the data set you'll use in your investigation, you're welcome to investigate the original source; you can do so via the [Survey Data section](https://www.cdc.gov/brfss/data_documentation/index.htm) of the BRFSS site."
   ]
  },
  {
   "cell_type": "markdown",
   "id": "6183ad66",
   "metadata": {},
   "source": [
    "## Seeing a table: `show()`\n",
    "\n",
    "The use of the `show()` method **displays** the first n rows of a table. Like `print()` this does not return a value, it just displays the value to us at the end of a cell."
   ]
  },
  {
   "cell_type": "code",
   "execution_count": 15,
   "id": "d7aafb32",
   "metadata": {},
   "outputs": [],
   "source": [
    "# Run this cell to load in the data\n",
    "brfss = Table.read_table(\"data/brfss.csv\")\n",
    "brfss.show(5)"
   ]
  },
  {
   "cell_type": "markdown",
   "id": "35e9c58d",
   "metadata": {
    "deletable": false,
    "editable": false
   },
   "source": [
    "**Question 2.1:** Fill in the `num_rows_brfss` and `num_columns_brfss` with the number of rows and columns in the original `brfss` table, respectively.\n",
    "\n",
    "<!--\n",
    "BEGIN QUESTION\n",
    "name: q2_1\n",
    "points: 0\n",
    "-->"
   ]
  },
  {
   "cell_type": "code",
   "execution_count": 16,
   "id": "b5a9342d",
   "metadata": {},
   "outputs": [],
   "source": [
    "num_rows_brfss = ...\n",
    "num_columns_brfss = ...\n",
    "print(f\"Our `brfss` table has {num_rows_brfss} rows and {num_columns_brfss} columns\")"
   ]
  },
  {
   "cell_type": "code",
   "execution_count": null,
   "id": "ccb40803",
   "metadata": {
    "deletable": false,
    "editable": false
   },
   "outputs": [],
   "source": [
    "grader.check(\"q2_1\")"
   ]
  },
  {
   "cell_type": "markdown",
   "id": "51aab20a",
   "metadata": {},
   "source": [
    "### Investigating our Data\n",
    "\n",
    "Now that we've loaded our data into the `brfss` table, let's take a closer look at its columns. Run the following cell to output the column names. "
   ]
  },
  {
   "cell_type": "code",
   "execution_count": 19,
   "id": "2a20a30c",
   "metadata": {},
   "outputs": [],
   "source": [
    "brfss.labels"
   ]
  },
  {
   "cell_type": "markdown",
   "id": "5abd9263",
   "metadata": {},
   "source": [
    "Based on these column names, it looks like the data includes questions about **telecommunications**, **housing**, **demographic information**, **mental and physical health**, **alcohol and drug consumption**, and **physical exercise**. Each column in the `brfss` table corresponds to a question asked in the official BRFSS Survey."
   ]
  },
  {
   "cell_type": "markdown",
   "id": "c0a0c9d7",
   "metadata": {},
   "source": [
    "## Data Manipulation\n",
    "\n",
    "Now that we have a solid understanding of the basic table methods from the `datascience` library, let's put our skills to use! Even with a few tools, we are already able to arrive at powerful realizations about real world data."
   ]
  },
  {
   "cell_type": "markdown",
   "id": "c5ffc10b",
   "metadata": {
    "deletable": false,
    "editable": false
   },
   "source": [
    "**Question 2.2**: Assign `num_alabama_rows` to the the number of times the name **Alabama** appeared in the `brfss` table.\n",
    "\n",
    "*Hint*: Use the table methods you've learned above!\n",
    "\n",
    "<!--\n",
    "BEGIN QUESTION\n",
    "name: q2_2\n",
    "points: 0\n",
    "-->"
   ]
  },
  {
   "cell_type": "code",
   "execution_count": 20,
   "id": "65e96002",
   "metadata": {},
   "outputs": [],
   "source": [
    "alabama_tbl = ...\n",
    "num_alabama_rows = ...\n",
    "num_alabama_rows"
   ]
  },
  {
   "cell_type": "code",
   "execution_count": null,
   "id": "fd40feb5",
   "metadata": {
    "deletable": false,
    "editable": false
   },
   "outputs": [],
   "source": [
    "grader.check(\"q2_2\")"
   ]
  },
  {
   "cell_type": "markdown",
   "id": "fdfe39f0",
   "metadata": {},
   "source": [
    "Take a closer look at some of the columns in the `brfss` table. For the next two questions, we will be looking at the `\"Binge Drinks\"` column, which corresponds to this survey question:\n",
    "> Considering all types of alcoholic beverages, how many times during the past 30 days did you have 5 or more\n",
    "drinks for men or 4 or more drinks for women on an occasion? \n",
    "\n",
    "Notice that this column contains negative values, most notably `-1`. Why might this be the case? Discuss with the people around you and check in with your GSI to confirm."
   ]
  },
  {
   "cell_type": "code",
   "execution_count": 22,
   "id": "3600d663",
   "metadata": {},
   "outputs": [],
   "source": [
    "# Run this cell\n",
    "brfss.column(\"Binge Drinks\")"
   ]
  },
  {
   "cell_type": "markdown",
   "id": "4a2b9316",
   "metadata": {
    "deletable": false,
    "editable": false
   },
   "source": [
    "**Question 2.3**: Create a new table called `missing_binge_drinks` which only contains rows from the `brfss` table where there is a `-1` in the `\"Binge Drinks\"` column.\n",
    "\n",
    "<!--\n",
    "BEGIN QUESTION\n",
    "name: q2_3\n",
    "points: 0\n",
    "-->"
   ]
  },
  {
   "cell_type": "code",
   "execution_count": 23,
   "id": "dd38f3df",
   "metadata": {},
   "outputs": [],
   "source": [
    "missing_binge_drinks = ...\n",
    "missing_binge_drinks"
   ]
  },
  {
   "cell_type": "code",
   "execution_count": null,
   "id": "56d8b706",
   "metadata": {
    "deletable": false,
    "editable": false
   },
   "outputs": [],
   "source": [
    "grader.check(\"q2_3\")"
   ]
  },
  {
   "cell_type": "markdown",
   "id": "341af83d",
   "metadata": {
    "deletable": false,
    "editable": false
   },
   "source": [
    "<!-- BEGIN QUESTION -->\n",
    "\n",
    "**Question 2.4 (*Discussion*):** Say we wanted to find the average of one of the columns from our original table. How does the inclusion of `-1` values *affect* this average? If we removed all the negative values, how would the average change?\n",
    "\n",
    "Then, once you've answered, run the following cell to confirm your understanding.\n",
    "\n",
    "<!--\n",
    "BEGIN QUESTION\n",
    "name: q2_4\n",
    "points: 0\n",
    "manual: true\n",
    "-->"
   ]
  },
  {
   "cell_type": "markdown",
   "id": "736288a8",
   "metadata": {},
   "source": [
    "_Type your answer here, replacing this text._"
   ]
  },
  {
   "cell_type": "markdown",
   "id": "de75bc3c",
   "metadata": {
    "deletable": false,
    "editable": false
   },
   "source": [
    "<!-- END QUESTION -->"
   ]
  },
  {
   "cell_type": "code",
   "execution_count": 25,
   "id": "525d04d9",
   "metadata": {},
   "outputs": [],
   "source": [
    "brfss_no_negatives_children = brfss.where(\"Children\", are.not_equal_to(-1))\n",
    "print(f\"With negatives: {np.average(brfss.column('Children'))}\")\n",
    "print(f\"Without negatives: {np.average(brfss_no_negatives_children.column('Children'))}\")"
   ]
  },
  {
   "cell_type": "markdown",
   "id": "45ce292e",
   "metadata": {
    "deletable": false,
    "editable": false
   },
   "source": [
    "**Question 2.5:** As an **_extra challenge_**, see if you can output Alabama's average number of children for all respondents who gave an answer (i.e. do not have a value of -1) **without using the `np.average` function**. You should use the table `brfss_no_negatives_children` that's defined in the cell above.\n",
    "\n",
    "*Note*: We've provided some starter code. Feel free to use it or try another approach!\n",
    "\n",
    "<!--\n",
    "BEGIN QUESTION\n",
    "name: q2_5\n",
    "points: 0\n",
    "-->"
   ]
  },
  {
   "cell_type": "code",
   "execution_count": 26,
   "id": "925b44b1",
   "metadata": {},
   "outputs": [],
   "source": [
    "alabama_tbl = ...\n",
    "children_total = ...\n",
    "average_num_children = ...\n",
    "average_num_children"
   ]
  },
  {
   "cell_type": "code",
   "execution_count": null,
   "id": "1fc0e136",
   "metadata": {
    "deletable": false,
    "editable": false
   },
   "outputs": [],
   "source": [
    "grader.check(\"q2_5\")"
   ]
  },
  {
   "cell_type": "markdown",
   "id": "f3e74e09",
   "metadata": {
    "deletable": false,
    "editable": false
   },
   "source": [
    "**Question 2.6:** Using the `no_missing_income` table we've provided for you, determine the **average income** for respondents who:\n",
    "1. Have a health insurance plan (\"Yes\" in \"Health Plan\" column)\n",
    "2. Do not have a health insurance plan (\"No\" in \"Health Plan\" column)\n",
    "3. Refused to answer this question (\"Declined to Answer\" in \"Health Plan\" column)\n",
    "\n",
    "You may use the starter code provided for you, but are not required to.\n",
    "\n",
    "<!--\n",
    "BEGIN QUESTION\n",
    "name: q2_6\n",
    "points: 0\n",
    "-->"
   ]
  },
  {
   "cell_type": "code",
   "execution_count": 28,
   "id": "e1a39870",
   "metadata": {},
   "outputs": [],
   "source": [
    "no_missing_income = brfss.where(\"Income Upper\", are.not_equal_to(-1))\n",
    "\n",
    "health_plan = ...\n",
    "no_health_plan = ...\n",
    "declined = ...\n",
    "\n",
    "average_plan = ...\n",
    "average_no_plan = ...\n",
    "average_declined = ...\n",
    "\n",
    "print(f\"Respondents with a Health Insurance Plan made: \\t\\t${round(average_plan, 2)}\")\n",
    "print(f\"Respondents without a Health Insurance Plan made: \\t${round(average_no_plan, 2)}\")\n",
    "print(f\"Respondents who refused to answer made: \\t\\t${round(average_declined, 2)}\")"
   ]
  },
  {
   "cell_type": "code",
   "execution_count": null,
   "id": "7348aea1",
   "metadata": {
    "deletable": false,
    "editable": false
   },
   "outputs": [],
   "source": [
    "grader.check(\"q2_6\")"
   ]
  },
  {
   "cell_type": "markdown",
   "id": "e2c7a5f0",
   "metadata": {},
   "source": [
    "With just over a week of data science under your belts, you're already able to uncover underlying **patterns and trends** within real world data. In this case, we've found that those with health insurance plans make, on average, almost 9,000 more dollars a year than those without health insurance plans.\n",
    "\n",
    "What's valuable, too, is the information we gain when a population is *missing* or, in this case, *declines to participate*. Notice that the average salary of respondents who refused to answer was around 4,000 dollars lower than those *without* a Health Insurance Plan."
   ]
  },
  {
   "cell_type": "markdown",
   "id": "1ddaebe6",
   "metadata": {},
   "source": [
    "## Done! 😇\n",
    "\n",
    "That's it! There's nowhere for you to submit this, as labs are not assignments. However, please ask any questions you have with this notebook in lab or on Ed."
   ]
  },
  {
   "cell_type": "markdown",
   "id": "04989642",
   "metadata": {
    "deletable": false,
    "editable": false
   },
   "source": [
    "---\n",
    "\n",
    "To double-check your work, the cell below will rerun all of the autograder tests."
   ]
  },
  {
   "cell_type": "code",
   "execution_count": null,
   "id": "1b635e1a",
   "metadata": {
    "deletable": false,
    "editable": false
   },
   "outputs": [],
   "source": [
    "grader.check_all()"
   ]
  },
  {
   "cell_type": "markdown",
   "id": "788917db",
   "metadata": {
    "deletable": false,
    "editable": false
   },
   "source": [
    "## Submission\n",
    "\n",
    "Make sure you have run all cells in your notebook in order before running the cell below, so that all images/graphs appear in the output. The cell below will generate a zip file for you to submit. **Please save before exporting!**"
   ]
  },
  {
   "cell_type": "code",
   "execution_count": null,
   "id": "79a6c21a",
   "metadata": {
    "deletable": false,
    "editable": false
   },
   "outputs": [],
   "source": [
    "# Save your notebook first, then run this cell to export your submission.\n",
    "grader.export(pdf=False)"
   ]
  },
  {
   "cell_type": "markdown",
   "id": "daaef0de",
   "metadata": {},
   "source": [
    " "
   ]
  }
 ],
 "metadata": {
  "kernelspec": {
   "display_name": "Python 3 (ipykernel)",
   "language": "python",
   "name": "python3"
  },
  "language_info": {
   "codemirror_mode": {
    "name": "ipython",
    "version": 3
   },
   "file_extension": ".py",
   "mimetype": "text/x-python",
   "name": "python",
   "nbconvert_exporter": "python",
   "pygments_lexer": "ipython3",
   "version": "3.11.2"
  }
 },
 "nbformat": 4,
 "nbformat_minor": 5
}
